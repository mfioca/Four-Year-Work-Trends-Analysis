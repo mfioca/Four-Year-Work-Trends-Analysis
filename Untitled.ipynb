{
 "cells": [
  {
   "cell_type": "code",
   "execution_count": 1,
   "id": "e083e14b-44d6-478d-8271-2941de3576a2",
   "metadata": {},
   "outputs": [
    {
     "name": "stdout",
     "output_type": "stream",
     "text": [
      "csv top 5 rows is\n",
      "       timestamp       application               activity_type            activity_subtype  duration\n",
      "0  1/22/21 17:00  shed.carerev.com                  Focus Work                     General       342\n",
      "1  1/22/21 17:00             front  Communication & Scheduling  Email & Customer Relations       249\n",
      "2  1/22/21 17:00            finder                   Utilities                     General       216\n",
      "3  1/22/21 17:00             slack                  Other Work              Communications       169\n",
      "4  1/22/21 17:00             slack                    Business                  Operations       145\n",
      "csv column names is \n",
      "Index(['timestamp', 'application', 'activity_type', 'activity_subtype', 'duration'], dtype='object')\n",
      "csv dtypes is \n",
      "timestamp           object\n",
      "application         object\n",
      "activity_type       object\n",
      "activity_subtype    object\n",
      "duration             int64\n",
      "dtype: object\n"
     ]
    }
   ],
   "source": [
    "import pandas as pd\n",
    "from collections import Counter\n",
    "import re\n",
    "# Set display options\n",
    "pd.set_option('display.max_columns', None)  # Show all columns\n",
    "pd.set_option('display.width', 1000)        # Adjust width for better readability\n",
    "\n",
    "#establishing the csv file.  I know from opening it that it does not have any headers.  \n",
    "csv = pd.read_csv( 'user_history.csv', header = None )\n",
    "\n",
    "#naming headers:\n",
    "csv.columns = ['timestamp', 'application', 'activity_type', 'activity_subtype', 'duration']\n",
    "print( 'csv top 5 rows is' )\n",
    "print( csv.head() )\n",
    "\n",
    "#looking at column headers\n",
    "print( 'csv column names is ' )\n",
    "print( csv.columns )\n",
    "\n",
    "print( 'csv dtypes is ' )\n",
    "print( csv.dtypes )\n"
   ]
  },
  {
   "cell_type": "code",
   "execution_count": 3,
   "id": "bac0c184-fedf-4de6-afee-5a3a200fefba",
   "metadata": {},
   "outputs": [
    {
     "name": "stdout",
     "output_type": "stream",
     "text": [
      "      date hour       application\n",
      "0  1/22/21   17  shed.carerev.com\n",
      "1  1/22/21   17             front\n",
      "2  1/22/21   17            finder\n",
      "3  1/22/21   17             slack\n",
      "4  1/22/21   17             slack\n"
     ]
    }
   ],
   "source": [
    "#need to split the timestamp column for easer analysis\n",
    "\n",
    "#making sure timestamp is a string:\n",
    "csv['timestamp'] = csv['timestamp'].astype(str)\n",
    "\n",
    "#splitting the column:\n",
    "csv['date'] = csv['timestamp'].str.split( ' ' ).str[0] #gets the date\n",
    "csv['hour'] = csv['timestamp'].str.split( ' ' ).str[1].str.split( ':' ).str[0]  # Get the hour part\n",
    "\n",
    "#changing format of the hour column to show 08 instead of 8\n",
    "csv['hour'] = csv['hour'].astype(str).str.zfill(2)\n",
    "\n",
    "print( csv[['date', 'hour', 'application']].head() )"
   ]
  },
  {
   "cell_type": "code",
   "execution_count": 5,
   "id": "0927614a-3eda-457a-95bf-c490557ff1b0",
   "metadata": {},
   "outputs": [
    {
     "name": "stdout",
     "output_type": "stream",
     "text": [
      "Number of unique values in 'application' column is 2270.\n"
     ]
    }
   ],
   "source": [
    "unique_apps = csv['application'].nunique()\n",
    "\n",
    "print( f\"Number of unique values in 'application' column is {unique_apps}.\" )"
   ]
  },
  {
   "cell_type": "code",
   "execution_count": 7,
   "id": "840c888b-97fa-45f9-99bd-d0d35072bb28",
   "metadata": {},
   "outputs": [
    {
     "name": "stdout",
     "output_type": "stream",
     "text": [
      "application\n",
      "slack                            71921\n",
      "front                            28572\n",
      "docs.google.com/#spreadsheets    28155\n",
      "finder                           12493\n",
      "shed.carerev.com                  9417\n",
      "meet.google.com                   9003\n",
      "google.com                        8095\n",
      "newtab                            8007\n",
      "acrobat                           7541\n",
      "rescuetime.com                    6597\n",
      "preview                           6234\n",
      "drive.google.com                  5486\n",
      "app.mode.com                      5369\n",
      "mail                              5076\n",
      "care.slab.com                     4469\n",
      "google chrome                     3110\n",
      "docs.google.com/#document         2554\n",
      "microsoft excel                   2112\n",
      "dashboard.checkr.com              1805\n",
      "google.com/calendar               1733\n",
      "Name: count, dtype: int64\n"
     ]
    }
   ],
   "source": [
    "app_counts = csv['application'].value_counts()\n",
    "print( app_counts.head(20) )  # Review the top 20 to see if further consolidation is needed"
   ]
  },
  {
   "cell_type": "code",
   "execution_count": 9,
   "id": "b2fdc09a-d125-4744-b214-60cba564d9c0",
   "metadata": {},
   "outputs": [
    {
     "name": "stdout",
     "output_type": "stream",
     "text": [
      "Number of NaN values in 'application' column: 3\n",
      "         timestamp application  activity_type activity_subtype  duration     date hour\n",
      "158   1/26/21 8:00         NaN  Uncategorized          Unknown         6  1/26/21   08\n",
      "203   1/26/21 9:00         NaN  Uncategorized          Unknown         4  1/26/21   09\n",
      "618  1/27/21 14:00         NaN  Uncategorized          Unknown         2  1/27/21   14\n"
     ]
    }
   ],
   "source": [
    "#checking for nan values in the application column\n",
    "nan_count = csv['application'].isna().sum()\n",
    "print( f\"Number of NaN values in 'application' column: {nan_count}\" )\n",
    "\n",
    "#identifying the nan rows in the application column\n",
    "nan_rows = csv[csv['application'].isna()]\n",
    "print( nan_rows )"
   ]
  },
  {
   "cell_type": "code",
   "execution_count": 11,
   "id": "c3f36bfb-f46e-44ed-8b48-e32dbdb3fcef",
   "metadata": {},
   "outputs": [],
   "source": [
    "#droping nan values in the application column\n",
    "csv.dropna(subset=['application'], inplace=True)"
   ]
  },
  {
   "cell_type": "code",
   "execution_count": 13,
   "id": "81a8a740-4f2f-44b0-baa6-7c65edf4f39b",
   "metadata": {},
   "outputs": [],
   "source": [
    "def standardize_app_names( app_name, mapping ):\n",
    "    app_name = app_name.strip().lower()  # Trim spaces and convert to lowercase\n",
    "    for standard_name, pattern in mapping.items():\n",
    "        if pattern in app_name:  # Direct string comparison\n",
    "            return standard_name\n",
    "    return app_name"
   ]
  },
  {
   "cell_type": "code",
   "execution_count": 15,
   "id": "b905e65a-e512-466b-9bbd-d970bdf3b398",
   "metadata": {},
   "outputs": [
    {
     "name": "stdout",
     "output_type": "stream",
     "text": [
      "application\n",
      "slack              72039\n",
      "front              28572\n",
      "google sheets      28155\n",
      "google             21643\n",
      "finder             12497\n",
      "shed                9418\n",
      "google meet         9022\n",
      "acrobat             9007\n",
      "rescuetime          8274\n",
      "newtab              8007\n",
      "preview             6240\n",
      "mode                5515\n",
      "mail                5124\n",
      "slab                4482\n",
      "chrome              3173\n",
      "checkr              2446\n",
      "excel               2238\n",
      "app.carerev.com     1597\n",
      "calendar            1462\n",
      "codecademy.com       937\n",
      "Name: count, dtype: int64\n"
     ]
    }
   ],
   "source": [
    "# Define the mapping of patterns to standardized names\n",
    "app_mapping_1 = {\n",
    "    'slack': 'slack',\n",
    "    'google sheets': 'docs.google.com/#spreadsheets',\n",
    "    'finder': 'finder',\n",
    "    'shed': 'shed',\n",
    "    'google meet': 'meet.google.com',\n",
    "    'google': 'google.com',\n",
    "    'acrobat': 'acrobat',\n",
    "    'rescuetime': 'rescuetime',\n",
    "    'preview': 'preview',\n",
    "    'google drive': 'drive.google.com',\n",
    "    'mode': 'mode',\n",
    "    'mail': 'mail',\n",
    "    'slab': 'slab',  \n",
    "    'chrome': 'chrome',\n",
    "    'google docs': 'docs.google.com/#document',\n",
    "    'excel': 'excel',\n",
    "    'checkr': 'checkr',\n",
    "    'google calendar': 'google.com/calendar'\n",
    "}\n",
    "\n",
    "#applying the standardization function:\n",
    "csv['application'] = csv['application'].apply( lambda x: standardize_app_names( x, app_mapping_1 ) )\n",
    "\n",
    "#check the unique values after standardization:\n",
    "print( csv['application'].value_counts().head( 20 ) )"
   ]
  },
  {
   "cell_type": "code",
   "execution_count": 17,
   "id": "a7570222-e891-4854-824a-123f2f73f987",
   "metadata": {},
   "outputs": [
    {
     "name": "stdout",
     "output_type": "stream",
     "text": [
      "application\n",
      "carerev.okta.com               934\n",
      "users                          885\n",
      "app.karmacheck.com             867\n",
      "textedit                       863\n",
      "zoom.us                        822\n",
      "system preferences             772\n",
      "dialpad                        716\n",
      "nursys.com                     613\n",
      "carerev.lightning.force.com    605\n",
      "app.asana.com                  568\n",
      "coreautha                      557\n",
      "messages                       501\n",
      "okta verify                    451\n",
      "amazon.com                     417\n",
      "w3schools.com                  385\n",
      "carerev.zoom.us                380\n",
      "app.shortcut.com               374\n",
      "settings                       365\n",
      "localhost:8888                 352\n",
      "carerev.my.salesforce.com      337\n",
      "Name: count, dtype: int64\n"
     ]
    }
   ],
   "source": [
    "# Get the next top 20 values (21st to 40th most common)\n",
    "print( csv['application'].value_counts().iloc[20:40] )\n"
   ]
  },
  {
   "cell_type": "code",
   "execution_count": 19,
   "id": "7a99abcf-7e33-41a1-810b-68dc5e8c535d",
   "metadata": {},
   "outputs": [
    {
     "name": "stdout",
     "output_type": "stream",
     "text": [
      "application\n",
      "okta                           1388\n",
      "karmacheck                      940\n",
      "codecademy.com                  937\n",
      "users                           888\n",
      "textedit                        863\n",
      "system preferences              772\n",
      "dialpad                         757\n",
      "settings                        644\n",
      "nursys                          613\n",
      "carerev.lightning.force.com     605\n",
      "asana                           568\n",
      "coreautha                       557\n",
      "messages                        501\n",
      "amazon                          429\n",
      "w3schools                       391\n",
      "shortcut                        376\n",
      "localhost                       352\n",
      "carerev.my.salesforce.com       337\n",
      "stackoverflow.com               333\n",
      "drata agent                     328\n",
      "Name: count, dtype: int64\n"
     ]
    }
   ],
   "source": [
    "# New app_mapping for the specified list with adjustments\n",
    "app_mapping_2 = {\n",
    "    'okta': 'okta',\n",
    "    'karmacheck': 'karmacheck',\n",
    "    'zoom': 'zoom',\n",
    "    'users': 'users',\n",
    "    'textedit': 'textedit',\n",
    "    'system preferences': 'system preferences',\n",
    "    'dialpad': 'dialpad',\n",
    "    'nursys': 'nursys.com',\n",
    "    'asana': 'app.asana.com',\n",
    "    'coreautha': 'coreautha',\n",
    "    'messages': 'messages',\n",
    "    'amazon': 'amazon.com',\n",
    "    'w3schools': 'w3schools.com',\n",
    "    'shortcut': 'app.shortcut.com',\n",
    "    'settings': 'settings',\n",
    "    'localhost': 'localhost:8888',\n",
    "    # Salesforce-related entries with \"force\" are deliberately excluded\n",
    "}\n",
    "#running the function to clean up the next group 20-40\n",
    "csv['application'] = csv['application'].apply( lambda x: standardize_app_names( x, app_mapping_2 ) )\n",
    "\n",
    "print( csv['application'].value_counts().iloc[20:40] )"
   ]
  },
  {
   "cell_type": "code",
   "execution_count": 21,
   "id": "8d449760-c059-44a9-b18d-ad6b6b59d6fe",
   "metadata": {},
   "outputs": [
    {
     "name": "stdout",
     "output_type": "stream",
     "text": [
      "['reliasconnect.force.com' 'relias.my.salesforce.com'\n",
      " 'carerev.lightning.force.com' 'carerev.my.salesforce.com'\n",
      " 'carerev--c.documentforce.com' 'login.salesforce.com'\n",
      " 'developer.salesforce.com' 'help.salesforce.com'\n",
      " 'dfc-org-production.force.com' 'salesforce.com' 'laerdal.force.com'\n",
      " 'carerev--c.na123.content.force.com' 'carerev--uat.my.salesforce.com'\n",
      " 'carerev--uat.lightning.force.com' 'trailhead.salesforce.com'\n",
      " 'creative-bear-b7jbfu-dev-ed.lightning.force.com'\n",
      " 'creative-bear-b7jbfu-dev-ed.my.salesforce.com'\n",
      " 'creative-shark-5b4wo8-dev-ed.lightning.force.com'\n",
      " 'creative-shark-5b4wo8-dev-ed.my.salesforce.com'\n",
      " 'creative-shark-5b4wo8-dev-ed--c.documentforce.com'\n",
      " 'carerev--trainserv.sandbox.my.salesforce.com'\n",
      " 'carerev--trainserv.sandbox.lightning.force.com' 'carerev.file.force.com'\n",
      " 'dscyfkids.my.salesforce.com' 'txhhs.force.com'\n",
      " 'carerev--trainserv.sandbox.file.force.com' 'tbid.digital.salesforce.com'\n",
      " 'carerev--c.vf.force.com' 'ideas.salesforce.com' 'doh.force.com'\n",
      " 'salesforceben.com' 'salesforce.stackexchange.com'\n",
      " 'rippling.my.salesforce.com']\n"
     ]
    }
   ],
   "source": [
    "#need to identify salesforce items:\n",
    "# Find all unique values in the 'application' column that contain \"force\"\n",
    "force_related_apps = csv['application'][csv['application'].str.contains( 'force', case=False, na=False )].unique()\n",
    "\n",
    "# Display the unique values\n",
    "print( force_related_apps )"
   ]
  },
  {
   "cell_type": "code",
   "execution_count": 23,
   "id": "a55772db-3f5b-484f-b0d7-02c4dad8e097",
   "metadata": {},
   "outputs": [],
   "source": [
    "# Define the simplified standardization function  identified separate items relias, rippling and documentforce\n",
    "def standardize_salesforce( app_name ):\n",
    "    if isinstance( app_name, str ):  # Ensure the value is a string\n",
    "        app_name = app_name.strip().lower()  # Trim spaces and convert to lowercase\n",
    "        if any(excluded in app_name for excluded in ['relias', 'rippling', 'documentforce']):\n",
    "            return app_name  # Return original name if it contains excluded terms\n",
    "        if 'force' in app_name or 'salesforce' in app_name:  # General pattern matching for Salesforce\n",
    "            return 'salesforce'\n",
    "    return app_name  # Return the original value if it's not a string or doesn't match"
   ]
  },
  {
   "cell_type": "code",
   "execution_count": 25,
   "id": "e2beeaf3-f0d4-4c6a-873e-52e7952556aa",
   "metadata": {},
   "outputs": [
    {
     "name": "stdout",
     "output_type": "stream",
     "text": [
      "application\n",
      "slack              72039\n",
      "front              28572\n",
      "google sheets      28155\n",
      "google             21643\n",
      "finder             12497\n",
      "shed                9418\n",
      "google meet         9022\n",
      "acrobat             9007\n",
      "rescuetime          8274\n",
      "newtab              8007\n",
      "preview             6240\n",
      "mode                5515\n",
      "mail                5124\n",
      "slab                4482\n",
      "chrome              3173\n",
      "checkr              2446\n",
      "excel               2238\n",
      "app.carerev.com     1597\n",
      "calendar            1462\n",
      "zoom                1418\n",
      "Name: count, dtype: int64\n"
     ]
    }
   ],
   "source": [
    "# Apply the simplified standardization function to the application column\n",
    "csv['application'] = csv['application'].apply( standardize_salesforce )\n",
    "\n",
    "# Check the unique values after standardization\n",
    "print( csv['application'].value_counts().head( 20 ) )"
   ]
  },
  {
   "cell_type": "code",
   "execution_count": 27,
   "id": "c933f2eb-cc41-40c7-9fae-017067723494",
   "metadata": {},
   "outputs": [
    {
     "name": "stdout",
     "output_type": "stream",
     "text": [
      "application\n",
      "slack              72039\n",
      "front              28572\n",
      "google sheets      28155\n",
      "google             21643\n",
      "finder             12497\n",
      "shed                9418\n",
      "google meet         9022\n",
      "acrobat             9007\n",
      "rescuetime          8274\n",
      "newtab              8007\n",
      "preview             6240\n",
      "mode                5515\n",
      "mail                5124\n",
      "slab                4482\n",
      "chrome              3173\n",
      "checkr              2446\n",
      "excel               2238\n",
      "app.carerev.com     1597\n",
      "calendar            1462\n",
      "zoom                1418\n",
      "Name: count, dtype: int64\n",
      "application\n",
      "okta                  1388\n",
      "salesforce            1099\n",
      "karmacheck             940\n",
      "codecademy.com         937\n",
      "users                  888\n",
      "textedit               863\n",
      "system preferences     772\n",
      "dialpad                757\n",
      "settings               644\n",
      "nursys                 613\n",
      "asana                  568\n",
      "coreautha              557\n",
      "messages               501\n",
      "amazon                 429\n",
      "w3schools              391\n",
      "shortcut               376\n",
      "localhost              352\n",
      "stackoverflow.com      333\n",
      "drata agent            328\n",
      "github.com             257\n",
      "Name: count, dtype: int64\n"
     ]
    }
   ],
   "source": [
    "#now need to clean up relias, rippling and documentforce\n",
    "# New app_mapping for specific cases\n",
    "relias_rippling_mapping = {\n",
    "    'relias': 'relias',\n",
    "    'rippling': 'rippling',\n",
    "    'documentforce': 'documentforce'\n",
    "}\n",
    "\n",
    "#applying original function:\n",
    "\n",
    "csv['application'] = csv['application'].apply( lambda x: standardize_app_names( x, relias_rippling_mapping ) )\n",
    "\n",
    "print( csv['application'].value_counts().head( 20 ) )\n",
    "print( csv['application'].value_counts().iloc[20:40] )"
   ]
  },
  {
   "cell_type": "code",
   "execution_count": 29,
   "id": "e1fb068c-a741-44aa-ba78-ef7fe97fed76",
   "metadata": {},
   "outputs": [
    {
     "name": "stdout",
     "output_type": "stream",
     "text": [
      "application\n",
      "relias                              222\n",
      "microsoft word                      214\n",
      "app.frontapp.com                    211\n",
      "efaidnbmnnnibpcajpcglclefindmkaj    205\n",
      "stickies                            205\n",
      "logi options+                       202\n",
      "dock                                193\n",
      "ecards.heart.org                    189\n",
      "coreservicesuiagent                 187\n",
      "terminal                            173\n",
      "rippling                            167\n",
      "activity monitor                    155\n",
      "calculator                          149\n",
      "chatgpt                             105\n",
      "linkedin.com                        105\n",
      "giphy.com                            98\n",
      "miro.com                             90\n",
      "carerev.latticehq.com                88\n",
      "teamrecess.com                       88\n",
      "Name: count, dtype: int64\n"
     ]
    }
   ],
   "source": [
    "# Print the next group of  most common values for review\n",
    "print( csv['application'].value_counts().iloc[41:60] )"
   ]
  },
  {
   "cell_type": "code",
   "execution_count": 31,
   "id": "a809ed08-f861-495d-8d9b-3e2cf6dd7b28",
   "metadata": {},
   "outputs": [
    {
     "name": "stdout",
     "output_type": "stream",
     "text": [
      "application\n",
      "front                               28803\n",
      "google sheets                       28155\n",
      "google                              21643\n",
      "finder                              12497\n",
      "shed                                 9418\n",
      "google meet                          9022\n",
      "acrobat                              9007\n",
      "rescuetime                           8274\n",
      "newtab                               8007\n",
      "preview                              6240\n",
      "mode                                 5515\n",
      "mail                                 5124\n",
      "slab                                 4482\n",
      "chrome                               3173\n",
      "checkr                               2446\n",
      "excel                                2238\n",
      "app.carerev.com                      1597\n",
      "calendar                             1462\n",
      "zoom                                 1418\n",
      "okta                                 1388\n",
      "salesforce                           1099\n",
      "karmacheck                            940\n",
      "codecademy.com                        937\n",
      "users                                 888\n",
      "textedit                              863\n",
      "system preferences                    772\n",
      "dialpad                               757\n",
      "settings                              644\n",
      "nursys                                613\n",
      "asana                                 568\n",
      "coreautha                             557\n",
      "messages                              501\n",
      "amazon                                429\n",
      "w3schools                             391\n",
      "shortcut                              376\n",
      "localhost                             352\n",
      "stackoverflow.com                     333\n",
      "drata agent                           328\n",
      "github.com                            257\n",
      "youtube.com                           236\n",
      "relias                                222\n",
      "microsoft word                        214\n",
      "stickies                              205\n",
      "efaidnbmnnnibpcajpcglclefindmkaj      205\n",
      "logi options+                         202\n",
      "dock                                  193\n",
      "ecards.heart.org                      189\n",
      "coreservicesuiagent                   187\n",
      "terminal                              173\n",
      "rippling                              167\n",
      "activity monitor                      155\n",
      "calculator                            149\n",
      "lattice                               118\n",
      "linkedin.com                          105\n",
      "chatgpt                               105\n",
      "giphy.com                              98\n",
      "miro.com                               90\n",
      "teamrecess.com                         88\n",
      "safari                                 87\n",
      "Name: count, dtype: int64\n"
     ]
    }
   ],
   "source": [
    "#changing front and lattis\n",
    "front_lattice_mapping = {\n",
    "    'front': 'front',\n",
    "    'lattice': 'lattice'\n",
    "}\n",
    "csv['application'] = csv['application'].apply( lambda x: standardize_app_names( x, front_lattice_mapping ) )\n",
    "\n",
    "print( csv['application'].value_counts().iloc[1:60] )"
   ]
  },
  {
   "cell_type": "code",
   "execution_count": 33,
   "id": "718e1c98-a583-4691-bd6a-22e83fc54138",
   "metadata": {},
   "outputs": [],
   "source": [
    "# replacing email app names to just email\n",
    "csv['application'] = csv['application'].replace( {'front': 'email', 'mail': 'email'} )"
   ]
  },
  {
   "cell_type": "code",
   "execution_count": 35,
   "id": "009a4cd9-5b8b-408e-82b4-f9f5f419d6c5",
   "metadata": {},
   "outputs": [
    {
     "name": "stdout",
     "output_type": "stream",
     "text": [
      "1/10/22 10:00\n",
      "9/9/22 9:00\n"
     ]
    }
   ],
   "source": [
    "#checking timeframes.  Need to only include the section with this one individual employer:\n",
    "print( csv['timestamp'].min() )\n",
    "print( csv['timestamp'].max() )"
   ]
  },
  {
   "cell_type": "code",
   "execution_count": 37,
   "id": "5a3e1322-ac88-45a4-bb5d-6c1c6176b312",
   "metadata": {},
   "outputs": [
    {
     "name": "stdout",
     "output_type": "stream",
     "text": [
      "Index(['timestamp', 'application', 'activity_type', 'activity_subtype', 'duration', 'date', 'hour'], dtype='object')\n"
     ]
    }
   ],
   "source": [
    "print( csv.columns )"
   ]
  },
  {
   "cell_type": "code",
   "execution_count": 39,
   "id": "4732dd3a-508c-4bce-9a8b-4ab902b13d36",
   "metadata": {},
   "outputs": [],
   "source": [
    "#changing timestamp back to datetime format\n",
    "csv['timestamp'] = csv['timestamp'].astype('datetime64[ns]')"
   ]
  },
  {
   "cell_type": "code",
   "execution_count": 40,
   "id": "4079503e-66ad-482e-b890-0381df2ba2fd",
   "metadata": {},
   "outputs": [
    {
     "name": "stdout",
     "output_type": "stream",
     "text": [
      "2024-08-28 11:00:00\n"
     ]
    }
   ],
   "source": [
    "print( csv['timestamp'].max() )"
   ]
  },
  {
   "cell_type": "code",
   "execution_count": 41,
   "id": "a91a5e45-25aa-4228-9880-df47d3278287",
   "metadata": {},
   "outputs": [
    {
     "name": "stdout",
     "output_type": "stream",
     "text": [
      "2024-06-17 16:00:00\n"
     ]
    }
   ],
   "source": [
    "#filtering out all data after employment separation\n",
    "end_date = '2024-06-18' \n",
    "\n",
    "\n",
    "filtered_csv = csv[csv['timestamp'] < end_date]\n",
    "\n",
    "print( filtered_csv['timestamp'].max() )"
   ]
  },
  {
   "cell_type": "code",
   "execution_count": 42,
   "id": "9c276bb9-a63d-47d2-ae9d-b6322995f77b",
   "metadata": {},
   "outputs": [
    {
     "name": "stdout",
     "output_type": "stream",
     "text": [
      "                       application activity_subtype  counts\n",
      "0                  app.carerev.com          General    1597\n",
      "1         azbn.boardsofnursing.org          General       1\n",
      "2                         azbn.gov          General       5\n",
      "3   breathe-safe-environmental.com          General       5\n",
      "4                           checkr          General    2112\n",
      "5           click.account.miro.com          General       1\n",
      "6                   codecademy.com          General      13\n",
      "7             crisisprevention.com          General      27\n",
      "8              developers.miro.com          General       1\n",
      "9                          dialpad   Communications     716\n",
      "10                ecards.heart.org          General     189\n",
      "11                    forms.nh.gov          General       2\n",
      "12              idfpr.illinois.gov          General      12\n",
      "13                      karmacheck          General     896\n",
      "14                  lafirecard.com          General      62\n",
      "15                        miro.com          General      90\n",
      "16                            mode          General    5369\n",
      "17    mqa-internet.doh.state.fl.us          General      52\n",
      "18         newjersey.mylicense.com          General       7\n",
      "19                          nursys          General     613\n",
      "20                     oplc.nh.gov          General       1\n",
      "21        osbn.boardsofnursing.org          General      13\n",
      "22                     pals.pa.gov          General       1\n",
      "23                phin.state.ok.us          General      12\n",
      "24            portal.concentra.com          General      12\n",
      "25                         preview          General    5395\n",
      "26          recordcheck.doj.wi.gov          General      13\n",
      "27                      salesforce          General       6\n",
      "28               search.dca.ca.gov          General      79\n",
      "29                            shed          General    9414\n",
      "30             shop.codecademy.com          General       1\n",
      "31    sign-in.crisisprevention.com          General       1\n",
      "32                           slack   Communications     718\n",
      "33                           slack          General     545\n"
     ]
    }
   ],
   "source": [
    "#working on cleaning activity subtypes\n",
    "focus_work_counts = filtered_csv[filtered_csv['activity_type'] == 'Focus Work'].groupby(['application', 'activity_subtype']).size().reset_index(name='counts')\n",
    "print( focus_work_counts )"
   ]
  },
  {
   "cell_type": "code",
   "execution_count": 47,
   "id": "ba65a55f-f109-4731-8eb1-13d91d6975d0",
   "metadata": {},
   "outputs": [],
   "source": [
    "#creating a function to clean up activity subtypes\n",
    "def assign_activity_subtype( df, application_name, subtype_name ):\n",
    "    df.loc[df['application'] == application_name, 'activity_subtype'] = subtype_name"
   ]
  },
  {
   "cell_type": "code",
   "execution_count": 49,
   "id": "bafc61e7-4168-4bc3-8596-75a95f8db043",
   "metadata": {},
   "outputs": [],
   "source": [
    "assign_activity_subtype( filtered_csv, 'slack', 'Communications' )"
   ]
  },
  {
   "cell_type": "code",
   "execution_count": 51,
   "id": "46777f04-952d-480c-8dbf-fe59d813810b",
   "metadata": {},
   "outputs": [
    {
     "name": "stdout",
     "output_type": "stream",
     "text": [
      "                       application activity_subtype  counts\n",
      "0                  app.carerev.com          General    1597\n",
      "1         azbn.boardsofnursing.org          General       1\n",
      "2                         azbn.gov          General       5\n",
      "3   breathe-safe-environmental.com          General       5\n",
      "4                           checkr          General    2112\n",
      "5           click.account.miro.com          General       1\n",
      "6                   codecademy.com          General      13\n",
      "7             crisisprevention.com          General      27\n",
      "8              developers.miro.com          General       1\n",
      "9                          dialpad   Communications     716\n",
      "10                ecards.heart.org          General     189\n",
      "11                    forms.nh.gov          General       2\n",
      "12              idfpr.illinois.gov          General      12\n",
      "13                      karmacheck          General     896\n",
      "14                  lafirecard.com          General      62\n",
      "15                        miro.com          General      90\n",
      "16                            mode          General    5369\n",
      "17    mqa-internet.doh.state.fl.us          General      52\n",
      "18         newjersey.mylicense.com          General       7\n",
      "19                          nursys          General     613\n",
      "20                     oplc.nh.gov          General       1\n",
      "21        osbn.boardsofnursing.org          General      13\n",
      "22                     pals.pa.gov          General       1\n",
      "23                phin.state.ok.us          General      12\n",
      "24            portal.concentra.com          General      12\n",
      "25                         preview          General    5395\n",
      "26          recordcheck.doj.wi.gov          General      13\n",
      "27                      salesforce          General       6\n",
      "28               search.dca.ca.gov          General      79\n",
      "29                            shed          General    9414\n",
      "30             shop.codecademy.com          General       1\n",
      "31    sign-in.crisisprevention.com          General       1\n",
      "32                           slack   Communications    1263\n"
     ]
    }
   ],
   "source": [
    "#creating a function to be able to iterate through unique value counts on 'activity_type'\n",
    "def get_activity_counts( df, activity_type ):\n",
    "    activity_counts = df[df['activity_type'] == activity_type].groupby(['application', 'activity_subtype']).size().reset_index(name='counts')\n",
    "    return activity_counts\n",
    "\n",
    "\n",
    "print( get_activity_counts( filtered_csv, 'Focus Work' ) )"
   ]
  },
  {
   "cell_type": "code",
   "execution_count": 53,
   "id": "445627d1-5c91-493b-a48a-c57482bcaeba",
   "metadata": {},
   "outputs": [],
   "source": [
    "#cleaning up application classifications\n",
    "assign_activity_subtype( filtered_csv, 'mode', 'analytics' )"
   ]
  },
  {
   "cell_type": "code",
   "execution_count": 55,
   "id": "ca17ee4b-6dfb-4a84-be06-2a0f8e37322c",
   "metadata": {},
   "outputs": [
    {
     "name": "stdout",
     "output_type": "stream",
     "text": [
      "activity_subtype\n",
      "General                        92495\n",
      "Communications                 73217\n",
      "Email & Customer Relations     37026\n",
      "Meetings                       12025\n",
      "Browsers                       10961\n",
      "Search                          8345\n",
      "Email                           6181\n",
      "analytics                       5515\n",
      "Uncategorized                   5483\n",
      "Operations                      2829\n",
      "Calendars                       1465\n",
      "Customer Relations               854\n",
      "Project Management               561\n",
      "Engineering & Technology         514\n",
      "Customer Relations Research      492\n",
      "Internet Utilities               277\n",
      "Legal & Gov't                    177\n",
      "Health & Medicine                110\n",
      "Systems Operations                92\n",
      "Video                             78\n",
      "Intelligence                      71\n",
      "Employment                        62\n",
      "Editing & IDEs                    58\n",
      "Professional Networking           56\n",
      "Music                             46\n",
      "Presentation                      45\n",
      "Graphic Design                    41\n",
      "Travel & Outdoors                 41\n",
      "Science & Technology              35\n",
      "Writing                           35\n",
      "Home & Garden                     35\n",
      "Photos                            32\n",
      "Games                             28\n",
      "Administration                    22\n",
      "Marketing                         17\n",
      "Accounting                        16\n",
      "Sales                             13\n",
      "Maps & Regional                   10\n",
      "File Sharing                       9\n",
      "Electronics                        6\n",
      "Anti-Virus & Spyware               5\n",
      "Voice Chat                         5\n",
      "Data Modeling & Analysis           4\n",
      "Business & Finance                 3\n",
      "Design & Planning                  3\n",
      "Business                           3\n",
      "Office                             1\n",
      "Instant Message                    1\n",
      "Food                               1\n",
      "Sports                             1\n",
      "International                      1\n",
      "Name: count, dtype: int64\n"
     ]
    }
   ],
   "source": [
    "print( filtered_csv['activity_subtype'].value_counts() )"
   ]
  },
  {
   "cell_type": "code",
   "execution_count": 57,
   "id": "3897e1d1-2634-47b7-9617-46c7ed34080d",
   "metadata": {},
   "outputs": [],
   "source": [
    "#assigning some items to customer relations research\n",
    "application_list = [\n",
    "    'azbn.boardsofnursing.org',\n",
    "    'azbn.gov',\n",
    "    'breathe-safe-environmental.com',\n",
    "    'click.account.miro.com',\n",
    "    'crisisprevention.com',\n",
    "    'ecards.heart.org',\n",
    "    'forms.nh.gov',\n",
    "    'idfpr.illinois.gov',\n",
    "    'lafirecard.com',\n",
    "    'mqa-internet.doh.state.fl.us',\n",
    "    'oplc.nh.gov',\n",
    "    'osbn.boardsofnursing.org',\n",
    "    'pals.pa.gov',\n",
    "    'phin.state.ok.us',\n",
    "    'portal.concentra.com',\n",
    "    'recordcheck.doj.wi.gov',\n",
    "    'search.dca.ca.gov',\n",
    "    'sign-in.crisisprevention.com'\n",
    "]\n",
    "\n",
    "for app in application_list:\n",
    "    assign_activity_subtype( filtered_csv, app, 'Customer Relations Research' )"
   ]
  },
  {
   "cell_type": "code",
   "execution_count": 59,
   "id": "34f28b6b-b1f3-40fd-9921-2e703c3c0473",
   "metadata": {},
   "outputs": [
    {
     "name": "stdout",
     "output_type": "stream",
     "text": [
      "activity_type\n",
      "Other Work                    82023\n",
      "Communication & Scheduling    55236\n",
      "Business                      40684\n",
      "Focus Work                    27981\n",
      "Utilities                     23575\n",
      "Reference & Learning          14999\n",
      "Personal                       5944\n",
      "Uncategorized                  5511\n",
      "Design & Composition           1601\n",
      "Shopping                        663\n",
      "Entertainment                   392\n",
      "Software Development            356\n",
      "News & Opinion                  313\n",
      "Social Networking               125\n",
      "Name: count, dtype: int64\n"
     ]
    }
   ],
   "source": [
    "#identifying all unique values under activity_type\n",
    "print( filtered_csv['activity_type'].value_counts() )"
   ]
  },
  {
   "cell_type": "code",
   "execution_count": 61,
   "id": "d33e9920-622a-40e9-a974-e4f6fc6334f4",
   "metadata": {},
   "outputs": [
    {
     "name": "stdout",
     "output_type": "stream",
     "text": [
      "                            application activity_subtype  counts\n",
      "0                             211la.org    Uncategorized       2\n",
      "1                        312defense.com    Uncategorized       2\n",
      "2                  4cornerresources.com    Uncategorized       2\n",
      "3    60eede1a833fb1ed03af78e0.mygo1.com    Uncategorized       7\n",
      "4           720ilcs-criminal-lawyer.com    Uncategorized       2\n",
      "..                                  ...              ...     ...\n",
      "926                    yagisanatode.com    Uncategorized       5\n",
      "927                            yamm.com    Uncategorized       2\n",
      "928                          yarkul.com    Uncategorized       1\n",
      "929                  zavalatexaslaw.com    Uncategorized       1\n",
      "930                                zoom    Uncategorized       9\n",
      "\n",
      "[931 rows x 3 columns]\n"
     ]
    }
   ],
   "source": [
    "print( get_activity_counts( filtered_csv, 'Uncategorized' ) )"
   ]
  },
  {
   "cell_type": "code",
   "execution_count": 63,
   "id": "549b89a5-9ba1-432e-9948-cb698bdbf25e",
   "metadata": {},
   "outputs": [
    {
     "name": "stdout",
     "output_type": "stream",
     "text": [
      "[('com', 1405), ('okta', 1386), ('coreautha', 555), ('drata', 352), ('agent', 349), ('org', 333), ('settings', 241), ('carerev', 224), ('efaidnbmnnnibpcajpcglclefindmkaj', 205), ('app', 164), ('int', 114), ('salesforce', 112), ('gov', 85), ('herokuapp', 77), ('documentforce', 71), ('tools', 66), ('net', 65), ('lucid', 64), ('infoinspired', 48), ('io', 47), ('api', 46), ('docebosaas', 46), ('learnsql', 45), ('us', 44), ('email', 44), ('blog', 37), ('relias', 35), ('wi', 31), ('boardsofnursing', 30), ('lattice', 30), ('searchapp', 27), ('loginwindow', 27), ('kandji', 27), ('menu', 27), ('loom', 26), ('mode', 26), ('productivityspot', 25), ('security', 23), ('state', 22), ('tmutest', 22)]\n"
     ]
    }
   ],
   "source": [
    "def most_common_words_in_activity_type( df, activity_type, column_name, top_n=10 ):\n",
    "    # Filter the DataFrame for rows where activity_type matches the specified type\n",
    "    filtered_df = df[df['activity_type'] == activity_type]\n",
    "    \n",
    "    # Combine all the text in the specified column into a single string\n",
    "    text = ' '.join( filtered_df[column_name].dropna().astype(str).tolist() )\n",
    "    \n",
    "    # Tokenize the text, removing non-alphanumeric characters\n",
    "    words = re.findall( r'\\b\\w+\\b', text.lower() )\n",
    "    \n",
    "    # Count the frequency of each word\n",
    "    word_counts = Counter( words )\n",
    "    \n",
    "    # Return the top N most common words\n",
    "    return word_counts.most_common( top_n )\n",
    "\n",
    "\n",
    "common_words = most_common_words_in_activity_type( filtered_csv, 'Uncategorized', 'application', top_n=40 )\n",
    "print( common_words )"
   ]
  },
  {
   "cell_type": "code",
   "execution_count": 65,
   "id": "4a4e4a0c-4267-4af8-9d3f-74a2e37a1268",
   "metadata": {},
   "outputs": [],
   "source": [
    "assign_activity_subtype( filtered_csv, 'salesforce', 'Customer Relations' )"
   ]
  },
  {
   "cell_type": "code",
   "execution_count": 67,
   "id": "745afe9f-ae56-4060-8757-e79e1644d656",
   "metadata": {},
   "outputs": [],
   "source": [
    "assign_activity_subtype( filtered_csv, 'lattice', 'Operations' )"
   ]
  },
  {
   "cell_type": "code",
   "execution_count": 69,
   "id": "c78e3b44-ad39-4bbb-8ec2-808e03c4a03b",
   "metadata": {},
   "outputs": [
    {
     "name": "stdout",
     "output_type": "stream",
     "text": [
      "                application activity_subtype  counts\n",
      "0         api.hellosign.com          General       8\n",
      "1         app.bon.texas.gov          General       8\n",
      "2         app.greenhouse.io          General       7\n",
      "3         app.hellosign.com          General      86\n",
      "4                awhonn.org          General      17\n",
      "5             bon.texas.gov          General      16\n",
      "6               dhhs.ne.gov          General       8\n",
      "7           docs.github.com          General       1\n",
      "8                   fda.gov          General      22\n",
      "9                 figma.com          General       2\n",
      "10        geeksforgeeks.org          General      19\n",
      "11          gist.github.com          General       6\n",
      "12               github.com          General     210\n",
      "13                   google          General    1920\n",
      "14            hellosign.com          General       1\n",
      "15           hlfirstaid.com          General       1\n",
      "16           microsoft word          General     210\n",
      "17            my.awhonn.org          General       3\n",
      "18              navicat.com          General       6\n",
      "19  npiregistry.cms.hhs.gov          General      36\n",
      "20                  numbers          General      41\n",
      "21               rescuetime          General    7840\n",
      "22         search.brave.com          General       7\n",
      "23             seatgeek.com          General       1\n",
      "24                    slack   Communications   70171\n",
      "25        stackoverflow.com          General     312\n",
      "26         techonthenet.com          General       6\n",
      "27                 textedit          General     859\n",
      "28                uscis.gov          General       8\n",
      "29              youtube.com          General     191\n"
     ]
    }
   ],
   "source": [
    "print( get_activity_counts( filtered_csv, 'Other Work' ) )"
   ]
  },
  {
   "cell_type": "code",
   "execution_count": 71,
   "id": "bc0c474c-6217-4c6d-862d-d90fd1e24ec9",
   "metadata": {},
   "outputs": [],
   "source": [
    "#assigning some items to customer relations research\n",
    "application_list_2 = [\n",
    "    'awhonn.org',\n",
    "    'bon.texas.gov',\n",
    "    'dhhs.ne.gov',\n",
    "    'fda.gov',\n",
    "    'figma.com',\n",
    "    'hellosign.com',\n",
    "    'hlfirstaid.com',\n",
    "    'my.awhonn.org',\n",
    "    'npiregistry.cms.hhs.gov',\n",
    "]\n",
    "\n",
    "for app in application_list_2:\n",
    "    assign_activity_subtype( filtered_csv, app, 'Customer Relations Research' )"
   ]
  },
  {
   "cell_type": "code",
   "execution_count": 77,
   "id": "69ee6b54-2e74-4d79-b1cb-c339e4ec69ac",
   "metadata": {},
   "outputs": [
    {
     "name": "stdout",
     "output_type": "stream",
     "text": [
      "application                       activity_type               activity_subtype           \n",
      "email                             Communication & Scheduling  Email & Customer Relations     28783\n",
      "google sheets                     Business                    General                        28155\n",
      "finder                            Utilities                   General                        11814\n",
      "shed                              Focus Work                  General                         9414\n",
      "google meet                       Communication & Scheduling  Meetings                        8848\n",
      "google                            Reference & Learning        Search                          7919\n",
      "rescuetime                        Other Work                  General                         7840\n",
      "newtab                            Utilities                   Browsers                        7760\n",
      "acrobat                           Communication & Scheduling  Email & Customer Relations      7539\n",
      "google                            Business                    General                         5485\n",
      "preview                           Focus Work                  General                         5395\n",
      "mode                              Focus Work                  analytics                       5369\n",
      "email                             Communication & Scheduling  Email                           4869\n",
      "slab                              Reference & Learning        General                         4469\n",
      "chrome                            Utilities                   Browsers                        3107\n",
      "google                            Business                    Operations                      2443\n",
      "checkr                            Focus Work                  General                         2112\n",
      "excel                             Business                    General                         1972\n",
      "google                            Other Work                  General                         1920\n",
      "                                  Personal                    Meetings                        1731\n",
      "app.carerev.com                   Focus Work                  General                         1597\n",
      "acrobat                           Design & Composition        General                         1462\n",
      "calendar                          Communication & Scheduling  Calendars                       1457\n",
      "zoom                              Communication & Scheduling  Meetings                        1407\n",
      "okta                              Uncategorized               Uncategorized                   1386\n",
      "google                            Communication & Scheduling  Email                           1288\n",
      "slack                             Focus Work                  Communications                  1263\n",
      "karmacheck                        Focus Work                  General                          896\n",
      "textedit                          Other Work                  General                          859\n",
      "users                             Personal                    General                          854\n",
      "system preferences                Personal                    General                          772\n",
      "dialpad                           Focus Work                  Communications                   716\n",
      "nursys                            Focus Work                  General                          613\n",
      "salesforce                        Communication & Scheduling  Customer Relations               605\n",
      "coreautha                         Uncategorized               Uncategorized                    555\n",
      "asana                             Business                    Project Management               545\n",
      "messages                          Personal                    Communications                   476\n",
      "amazon                            Shopping                    General                          411\n",
      "slack                             Personal                    Communications                   385\n",
      "shortcut                          Business                    Operations                       374\n",
      "settings                          Personal                    General                          362\n",
      "salesforce                        Business                    Customer Relations               349\n",
      "drata agent                       Uncategorized               Uncategorized                    328\n",
      "stackoverflow.com                 Other Work                  General                          312\n",
      "checkr                            Business                    Customer Relations               271\n",
      "settings                          Uncategorized               Uncategorized                    241\n",
      "w3schools                         Reference & Learning        Engineering & Technology         223\n",
      "github.com                        Other Work                  General                          210\n",
      "microsoft word                    Other Work                  General                          210\n",
      "stickies                          Reference & Learning        General                          205\n",
      "efaidnbmnnnibpcajpcglclefindmkaj  Uncategorized               Uncategorized                    205\n",
      "dock                              Personal                    General                          192\n",
      "youtube.com                       Other Work                  General                          191\n",
      "ecards.heart.org                  Focus Work                  Customer Relations Research      189\n",
      "relias                            Business                    Customer Relations               187\n",
      "coreservicesuiagent               Personal                    General                          185\n",
      "logi options+                     Personal                    General                          173\n",
      "rippling                          Personal                    General                          158\n",
      "activity monitor                  Utilities                   General                          155\n",
      "Name: count, dtype: int64\n"
     ]
    }
   ],
   "source": [
    "print( filtered_csv[['application', 'activity_type', 'activity_subtype']].value_counts().iloc[1:60] )"
   ]
  },
  {
   "cell_type": "code",
   "execution_count": 83,
   "id": "fda15e3b-0df4-4a6e-aacf-386c4aea9e5f",
   "metadata": {},
   "outputs": [
    {
     "name": "stdout",
     "output_type": "stream",
     "text": [
      "                                          application activity_subtype  counts\n",
      "0                                adobe crash reporter          General       1\n",
      "1                                     blog.pcrisk.com          General       1\n",
      "2                             carerev.accessperks.com          General       5\n",
      "3   carerevolutions-uploads-production.s3.us-west-...          General      67\n",
      "4                                            ccleaner          General      12\n",
      "5                                        ccleaner.com          General       5\n",
      "6                                          components          General       1\n",
      "7                                 coreservicesuiagent          General     185\n",
      "8                                        crowdcow.com          General       3\n",
      "9                                displaylinkuseragent          General      20\n",
      "10                                               dock          General     192\n",
      "11                                          downloads          General      21\n",
      "12                                         extensions          General      37\n",
      "13                               extensions.avira.com          General       3\n",
      "14                                           fast.com          General      41\n",
      "15                                              flags          General       2\n",
      "16                                             google         Meetings    1731\n",
      "17                                            history          General      50\n",
      "18                                    jerseymikes.com          General       1\n",
      "19                                       lifewire.com          General       5\n",
      "20                                      logi options+          General     173\n",
      "21                                     logitech g hub          General      15\n",
      "22                                      logitechg.com          General       1\n",
      "23                                           messages   Communications     476\n",
      "24                            my-personality-test.com          General       1\n",
      "25                                             photos          General      80\n",
      "26                                         rescuetime          General     101\n",
      "27                                       research.net          General       3\n",
      "28                                           rippling          General     158\n",
      "29                                           settings          General     362\n",
      "30                                              slack   Communications     385\n",
      "31                                      speedtest.net          General      22\n",
      "32                                  support.apple.com          General      40\n",
      "33                                  support.avira.com          General       1\n",
      "34                                 system information          General      28\n",
      "35                                 system preferences          General     772\n",
      "36                                     teamrecess.com          General      88\n",
      "37                                              users          General     854\n",
      "38                                         zaxbys.com          General       1\n"
     ]
    }
   ],
   "source": [
    "print( get_activity_counts( filtered_csv, 'Personal' ) )"
   ]
  },
  {
   "cell_type": "code",
   "execution_count": 85,
   "id": "ff074b6c-f779-4b20-b00b-3710d01c27b6",
   "metadata": {},
   "outputs": [],
   "source": [
    "#creating a function to clean up activity types\n",
    "def assign_activity_type( df, application_name, type_name ):\n",
    "    df.loc[df['application'] == application_name, 'activity_type'] = type_name"
   ]
  },
  {
   "cell_type": "code",
   "execution_count": 87,
   "id": "b44bf38f-b335-4b93-9c27-cb33dc283d32",
   "metadata": {},
   "outputs": [],
   "source": [
    "assign_activity_type( filtered_csv, 'slack', 'Focus Work' )"
   ]
  },
  {
   "cell_type": "code",
   "execution_count": 89,
   "id": "6104e8d1-73ae-4b46-a901-03ce4eebc0fe",
   "metadata": {},
   "outputs": [
    {
     "name": "stdout",
     "output_type": "stream",
     "text": [
      "                                          application activity_subtype  counts\n",
      "0                                adobe crash reporter          General       1\n",
      "1                                     blog.pcrisk.com          General       1\n",
      "2                             carerev.accessperks.com          General       5\n",
      "3   carerevolutions-uploads-production.s3.us-west-...          General      67\n",
      "4                                            ccleaner          General      12\n",
      "5                                        ccleaner.com          General       5\n",
      "6                                          components          General       1\n",
      "7                                 coreservicesuiagent          General     185\n",
      "8                                        crowdcow.com          General       3\n",
      "9                                displaylinkuseragent          General      20\n",
      "10                                               dock          General     192\n",
      "11                                          downloads          General      21\n",
      "12                                         extensions          General      37\n",
      "13                               extensions.avira.com          General       3\n",
      "14                                           fast.com          General      41\n",
      "15                                              flags          General       2\n",
      "16                                             google         Meetings    1731\n",
      "17                                            history          General      50\n",
      "18                                    jerseymikes.com          General       1\n",
      "19                                       lifewire.com          General       5\n",
      "20                                      logi options+          General     173\n",
      "21                                     logitech g hub          General      15\n",
      "22                                      logitechg.com          General       1\n",
      "23                                           messages   Communications     476\n",
      "24                            my-personality-test.com          General       1\n",
      "25                                             photos          General      80\n",
      "26                                         rescuetime          General     101\n",
      "27                                       research.net          General       3\n",
      "28                                           rippling          General     158\n",
      "29                                           settings          General     362\n",
      "30                                      speedtest.net          General      22\n",
      "31                                  support.apple.com          General      40\n",
      "32                                  support.avira.com          General       1\n",
      "33                                 system information          General      28\n",
      "34                                 system preferences          General     772\n",
      "35                                     teamrecess.com          General      88\n",
      "36                                              users          General     854\n",
      "37                                         zaxbys.com          General       1\n"
     ]
    }
   ],
   "source": [
    "print( get_activity_counts( filtered_csv, 'Personal' ) )"
   ]
  },
  {
   "cell_type": "code",
   "execution_count": 91,
   "id": "ccc224c5-e481-4b7d-8718-b04e1657321a",
   "metadata": {},
   "outputs": [
    {
     "name": "stdout",
     "output_type": "stream",
     "text": [
      "                          application            activity_subtype  counts\n",
      "0                       192.168.1.250                       Email       1\n",
      "1                             acrobat  Email & Customer Relations    7539\n",
      "2                   activeinboxhq.com                     General       2\n",
      "3               adobe desktop service  Email & Customer Relations       6\n",
      "4      adobeid-na1.services.adobe.com  Email & Customer Relations       7\n",
      "5                             aircall                     General       2\n",
      "6                          aircall.io                     General       1\n",
      "7                       allnurses.com                     General       2\n",
      "8                   assets.aircall.io                     General       3\n",
      "9                         asurion.com                     General       1\n",
      "10                           calendar                   Calendars    1457\n",
      "11                       calendly.com                   Calendars       5\n",
      "12            certificate.laerdal.com  Email & Customer Relations       2\n",
      "13                             checkr                    Meetings       1\n",
      "14                 cisco webex events                    Meetings       3\n",
      "15                              clock                     General      10\n",
      "16            creativecloud.adobe.com  Email & Customer Relations       3\n",
      "17                     crunchbase.com                     General       1\n",
      "18                            dialpad  Email & Customer Relations      39\n",
      "19                electron.aircall.io                     General       1\n",
      "20                              email                       Email    4869\n",
      "21                              email  Email & Customer Relations   28783\n",
      "22                     eventbrite.com                   Calendars       1\n",
      "23                           facetime                  Voice Chat       5\n",
      "24                             google                   Calendars       1\n",
      "25                             google                       Email    1288\n",
      "26                             google                     General     115\n",
      "27                             google             Instant Message       1\n",
      "28                        google meet                    Meetings    8848\n",
      "29                     hematology.org                     General       1\n",
      "30                          hxoutlook                       Email      10\n",
      "31                         karmacheck                    Meetings      34\n",
      "32  knowledgebase.constantcontact.com                       Email       1\n",
      "33                        laerdal.com  Email & Customer Relations      12\n",
      "34                     login.live.com                       Email       6\n",
      "35          login.microsoftonline.com                       Email       5\n",
      "36            microsoft teams classic                     General       1\n",
      "37                          reminders                     General       2\n",
      "38                         salesforce          Customer Relations     605\n",
      "39                       snippingtool  Email & Customer Relations      30\n",
      "40                teams.microsoft.com                     General       6\n",
      "41           visualstudiomagazine.com                       Email       1\n",
      "42                              webex                    Meetings       1\n",
      "43                 worldtimebuddy.com                   Calendars       1\n",
      "44                               zoom                    Meetings    1407\n"
     ]
    }
   ],
   "source": [
    "print( get_activity_counts( filtered_csv, 'Communication & Scheduling' ) )"
   ]
  },
  {
   "cell_type": "code",
   "execution_count": 93,
   "id": "99bf6a2b-ed94-4b7a-bcef-3f18d8970d9f",
   "metadata": {},
   "outputs": [],
   "source": [
    "assign_activity_subtype( filtered_csv, 'email', 'Email & Customer Relations' )"
   ]
  },
  {
   "cell_type": "code",
   "execution_count": 99,
   "id": "66e38634-75d6-4d63-ac72-28f5324d3da6",
   "metadata": {},
   "outputs": [
    {
     "name": "stdout",
     "output_type": "stream",
     "text": [
      "       application    activity_subtype  counts\n",
      "58   google sheets             General   28155\n",
      "55          google             General    5485\n",
      "57          google          Operations    2443\n",
      "45           excel             General    1972\n",
      "13           asana  Project Management     545\n",
      "..             ...                 ...     ...\n",
      "70      kansas.gov             General       1\n",
      "69    iterable.com             General       1\n",
      "66     hubspot.com           Marketing       1\n",
      "65          hp.com             General       1\n",
      "135    yesware.com               Sales       1\n",
      "\n",
      "[136 rows x 3 columns]\n"
     ]
    }
   ],
   "source": [
    "print( get_activity_counts( filtered_csv, 'Business' ).sort_values(by='counts', ascending=False) )"
   ]
  },
  {
   "cell_type": "code",
   "execution_count": 101,
   "id": "41ffb79e-9f84-437b-beae-357614c27f45",
   "metadata": {},
   "outputs": [],
   "source": [
    "assign_activity_subtype( filtered_csv, 'google sheets', 'analytics' )\n",
    "assign_activity_type( filtered_csv, 'google sheets', 'Focus Work' )"
   ]
  },
  {
   "cell_type": "code",
   "execution_count": 105,
   "id": "b55abb7a-3baa-42a7-b177-4e40f02a372f",
   "metadata": {},
   "outputs": [
    {
     "name": "stdout",
     "output_type": "stream",
     "text": [
      "                application          activity_subtype  counts\n",
      "137                  google                    Search    7919\n",
      "317                    slab                   General    4469\n",
      "368               w3schools  Engineering & Technology     223\n",
      "333                stickies                   General     205\n",
      "41                  cdc.gov                    Search      84\n",
      "..                      ...                       ...     ...\n",
      "135              goarmy.com                   General       1\n",
      "252            odh.ohio.gov                   General       1\n",
      "253              oig.ca.gov             Legal & Gov't       1\n",
      "254             oig.dhs.gov             Legal & Gov't       1\n",
      "49   code.djangoproject.com  Engineering & Technology       1\n",
      "\n",
      "[395 rows x 3 columns]\n"
     ]
    }
   ],
   "source": [
    "print( get_activity_counts( filtered_csv, 'Reference & Learning' ).sort_values(by='counts', ascending=False) )"
   ]
  },
  {
   "cell_type": "code",
   "execution_count": 113,
   "id": "c1583ea9-5f22-4c36-9a1b-53d29f36498b",
   "metadata": {},
   "outputs": [],
   "source": [
    "#looks for the ending of applications and changes the subtype:\n",
    "def assign_subtype_for_webpage( df, ending, subtype_name ):\n",
    "    df.loc[df['application'].str.endswith( ending ), 'activity_subtype'] = subtype_name"
   ]
  },
  {
   "cell_type": "code",
   "execution_count": 115,
   "id": "c51c923d-7712-4e38-8261-10dc633a035f",
   "metadata": {},
   "outputs": [],
   "source": [
    "assign_subtype_for_webpage( filtered_csv, '.gov', 'Customer Relations Research' )"
   ]
  },
  {
   "cell_type": "code",
   "execution_count": 123,
   "id": "f53ab698-a606-41a1-8803-4391e1a60213",
   "metadata": {},
   "outputs": [
    {
     "name": "stdout",
     "output_type": "stream",
     "text": [
      "                    application          activity_subtype  counts\n",
      "40                securityagent        Systems Operations      70\n",
      "28                       google            Editing & IDEs      57\n",
      "5              app.clubhouse.io                   General      45\n",
      "3                     adobe.com                   General      22\n",
      "29                       google                   General      20\n",
      "0             account.adobe.com                   General      16\n",
      "31                   icloud.com                   General      16\n",
      "23                        excel                   General      12\n",
      "4                        amazon                   General      11\n",
      "39                   salesforce        Customer Relations       8\n",
      "43                     terminal        Systems Operations       8\n",
      "30              helpx.adobe.com                   General       7\n",
      "17             digitalocean.com        Systems Operations       5\n",
      "12            commandprompt.com                   General       5\n",
      "32              keychain access        Systems Operations       5\n",
      "21      documentcloud.adobe.com                   General       4\n",
      "10                  chartio.com  Data Modeling & Analysis       4\n",
      "13     community.spiceworks.com        Systems Operations       4\n",
      "15                   data:image                   General       4\n",
      "1                       acrobat                   General       3\n",
      "34               outsystems.com                   General       2\n",
      "26                     gimp.org         Design & Planning       2\n",
      "20           docs.microsoft.com                   General       2\n",
      "18           docs.hazelcast.com                   General       2\n",
      "9         blog.sqlauthority.com                   General       2\n",
      "33              mandrillapp.com                   General       1\n",
      "41      snapnurse.hrmdirect.com                   General       1\n",
      "36         postoffice.adobe.com                   General       1\n",
      "35           postgresonline.com                   General       1\n",
      "42                   sqlite.org                   General       1\n",
      "38    raw.githubusercontent.com                   General       1\n",
      "37                   random.org            Editing & IDEs       1\n",
      "22            download.gimp.org         Design & Planning       1\n",
      "27   gist.githubusercontent.com                   General       1\n",
      "25        experience.arcgis.com                   General       1\n",
      "24              exnil.github.io                   General       1\n",
      "19        docs.intersystems.com                   General       1\n",
      "16                    dbvis.com                   General       1\n",
      "14                    ctrlq.org                   General       1\n",
      "11  christopher-hayes.github.io                   General       1\n",
      "8                blog.quest.com                   General       1\n",
      "7                    arcgis.com                   General       1\n",
      "6                  appsheet.com                   General       1\n",
      "2              activeadmin.info                   General       1\n",
      "44       youtrack.jetbrains.com                   General       1\n"
     ]
    }
   ],
   "source": [
    "print( get_activity_counts( filtered_csv, 'Software Development' ).sort_values(by='counts', ascending=False) )"
   ]
  },
  {
   "cell_type": "code",
   "execution_count": 125,
   "id": "3cbfb060-0d51-4fa5-9646-18740ac62ee9",
   "metadata": {},
   "outputs": [],
   "source": [
    "assign_activity_type( filtered_csv, 'salesforce', 'Focus Work' )"
   ]
  },
  {
   "cell_type": "code",
   "execution_count": 135,
   "id": "cfa21bd4-8172-4767-b2af-80e67daf6d9a",
   "metadata": {},
   "outputs": [
    {
     "name": "stdout",
     "output_type": "stream",
     "text": [
      "Applications with multiple activity_types:\n",
      "        application               activity_type\n",
      "2894        acrobat        Software Development\n",
      "145         acrobat  Communication & Scheduling\n",
      "96          acrobat        Design & Composition\n",
      "53207       acrobat                   Utilities\n",
      "226          amazon                    Shopping\n",
      "...             ...                         ...\n",
      "2328    youtube.com                  Other Work\n",
      "35648   youtube.com        Reference & Learning\n",
      "121279         zoom              News & Opinion\n",
      "325            zoom  Communication & Scheduling\n",
      "125681         zoom               Uncategorized\n",
      "\n",
      "[74 rows x 2 columns]\n",
      "\n",
      "Applications with multiple activity_subtypes:\n",
      "        application             activity_subtype\n",
      "96          acrobat                      General\n",
      "145         acrobat   Email & Customer Relations\n",
      "42081        checkr                     Meetings\n",
      "15           checkr                      General\n",
      "160          checkr           Customer Relations\n",
      "2242         checkr                Uncategorized\n",
      "1441         checkr           Internet Utilities\n",
      "11181       dialpad                Uncategorized\n",
      "7583        dialpad               Communications\n",
      "7560        dialpad   Email & Customer Relations\n",
      "2272          excel     Engineering & Technology\n",
      "7538          excel           Business & Finance\n",
      "6169          excel                       Search\n",
      "2256          excel                Uncategorized\n",
      "931           excel                      General\n",
      "12245        finder            Health & Medicine\n",
      "256717       finder                Uncategorized\n",
      "2            finder                      General\n",
      "502          google                   Operations\n",
      "160215       google                      Writing\n",
      "30142        google              Maps & Regional\n",
      "25021        google               Editing & IDEs\n",
      "14177        google                    Calendars\n",
      "479          google                        Email\n",
      "226148       google               Graphic Design\n",
      "10643        google           Internet Utilities\n",
      "229029       google                 Intelligence\n",
      "25           google                      General\n",
      "114231       google              Instant Message\n",
      "463          google                     Meetings\n",
      "114232       google                       Photos\n",
      "34           google                       Search\n",
      "74257        google                Uncategorized\n",
      "162868   karmacheck                     Meetings\n",
      "115125   karmacheck                Uncategorized\n",
      "33138    karmacheck                      General\n",
      "78          preview                      General\n",
      "183224      preview                Uncategorized\n",
      "379          relias           Customer Relations\n",
      "1919         relias                Uncategorized\n",
      "108818   rescuetime                Uncategorized\n",
      "5        rescuetime                      General\n",
      "194138   rescuetime           Customer Relations\n",
      "60202      rippling                Uncategorized\n",
      "49799      rippling                      General\n",
      "468        settings                      General\n",
      "149718     settings                Uncategorized\n",
      "148617         shed                Uncategorized\n",
      "0              shed                      General\n",
      "19             slab                      General\n",
      "8428           slab                Uncategorized\n",
      "72193         users                Uncategorized\n",
      "161406        users     Engineering & Technology\n",
      "131           users                      General\n",
      "35648   youtube.com  Customer Relations Research\n",
      "2328    youtube.com                      General\n",
      "121279         zoom                      General\n",
      "325            zoom                     Meetings\n",
      "125681         zoom                Uncategorized\n"
     ]
    }
   ],
   "source": [
    "def find_apps_with_multiple_types_or_subtypes( df ):\n",
    "    # Group by 'application' and count unique 'activity_type' and 'activity_subtype'\n",
    "    type_counts = df.groupby( 'application' )['activity_type'].nunique()\n",
    "    subtype_counts = df.groupby( 'application' )['activity_subtype'].nunique()\n",
    "    \n",
    "    # Find applications with more than one unique 'activity_type' or 'activity_subtype'\n",
    "    apps_with_multiple_types = type_counts[type_counts > 1].index\n",
    "    apps_with_multiple_subtypes = subtype_counts[subtype_counts > 1].index\n",
    "    \n",
    "    # Filter the original DataFrame to show these applications with their types and subtypes\n",
    "    result_type = df[df['application'].isin(apps_with_multiple_types)][['application', 'activity_type']].drop_duplicates()\n",
    "    result_subtype = df[df['application'].isin(apps_with_multiple_subtypes)][['application', 'activity_subtype']].drop_duplicates()\n",
    "    \n",
    "    # Order the results by 'activity_type' and 'activity_subtype'\n",
    "    result_type = result_type.sort_values(by='application')\n",
    "    result_subtype = result_subtype.sort_values(by='application')\n",
    "    \n",
    "    return result_type, result_subtype\n",
    "\n",
    "\n",
    "result_type, result_subtype = find_apps_with_multiple_types_or_subtypes( filtered_csv )\n",
    "\n",
    "# Print the results ordered by 'activity_type' and 'activity_subtype'\n",
    "print( \"Applications with multiple activity_types:\" )\n",
    "print( result_type )\n",
    "print( \"\\nApplications with multiple activity_subtypes:\" )\n",
    "print( result_subtype )"
   ]
  },
  {
   "cell_type": "code",
   "execution_count": 139,
   "id": "54e5859e-36e1-4dd6-ab12-91a9966bec9c",
   "metadata": {},
   "outputs": [],
   "source": [
    "#changing duplicates:\n",
    "assign_activity_subtype( filtered_csv, 'excel', 'analytics' )"
   ]
  },
  {
   "cell_type": "code",
   "execution_count": 141,
   "id": "e017f8a9-237e-4162-9854-10a943f5d442",
   "metadata": {},
   "outputs": [],
   "source": [
    "assign_activity_subtype( filtered_csv, 'dialpad', 'Communications' )"
   ]
  },
  {
   "cell_type": "code",
   "execution_count": 143,
   "id": "a14b78e0-9fab-4aaa-a5eb-bba3bee4e945",
   "metadata": {},
   "outputs": [],
   "source": [
    "assign_activity_subtype( filtered_csv, 'finder', 'General' )"
   ]
  },
  {
   "cell_type": "code",
   "execution_count": 145,
   "id": "80243c9a-b799-4e13-af9e-c314b1df5237",
   "metadata": {},
   "outputs": [],
   "source": [
    "assign_activity_subtype( filtered_csv, 'preview', 'General' )"
   ]
  },
  {
   "cell_type": "code",
   "execution_count": 147,
   "id": "a7cef83c-af4b-44f2-bf9d-fda57a723b37",
   "metadata": {},
   "outputs": [],
   "source": [
    "assign_activity_subtype( filtered_csv, 'shed', 'Operations' )"
   ]
  },
  {
   "cell_type": "code",
   "execution_count": 149,
   "id": "4b689627-074a-4e85-8481-52b4bc18e874",
   "metadata": {},
   "outputs": [],
   "source": [
    "assign_activity_subtype( filtered_csv, 'users', 'General' )"
   ]
  },
  {
   "cell_type": "code",
   "execution_count": 151,
   "id": "ddb46a60-b24c-4b61-b316-2a67aaadbd97",
   "metadata": {},
   "outputs": [
    {
     "name": "stdout",
     "output_type": "stream",
     "text": [
      "Applications with multiple activity_types:\n",
      "        application               activity_type\n",
      "2894        acrobat        Software Development\n",
      "145         acrobat  Communication & Scheduling\n",
      "96          acrobat        Design & Composition\n",
      "53207       acrobat                   Utilities\n",
      "226          amazon                    Shopping\n",
      "...             ...                         ...\n",
      "2328    youtube.com                  Other Work\n",
      "35648   youtube.com        Reference & Learning\n",
      "121279         zoom              News & Opinion\n",
      "325            zoom  Communication & Scheduling\n",
      "125681         zoom               Uncategorized\n",
      "\n",
      "[74 rows x 2 columns]\n",
      "\n",
      "Applications with multiple activity_subtypes:\n",
      "        application             activity_subtype\n",
      "96          acrobat                      General\n",
      "145         acrobat   Email & Customer Relations\n",
      "15           checkr                      General\n",
      "160          checkr           Customer Relations\n",
      "42081        checkr                     Meetings\n",
      "1441         checkr           Internet Utilities\n",
      "2242         checkr                Uncategorized\n",
      "14177        google                    Calendars\n",
      "160215       google                      Writing\n",
      "114232       google                       Photos\n",
      "114231       google              Instant Message\n",
      "74257        google                Uncategorized\n",
      "30142        google              Maps & Regional\n",
      "25021        google               Editing & IDEs\n",
      "226148       google               Graphic Design\n",
      "10643        google           Internet Utilities\n",
      "229029       google                 Intelligence\n",
      "502          google                   Operations\n",
      "479          google                        Email\n",
      "463          google                     Meetings\n",
      "25           google                      General\n",
      "34           google                       Search\n",
      "162868   karmacheck                     Meetings\n",
      "115125   karmacheck                Uncategorized\n",
      "33138    karmacheck                      General\n",
      "379          relias           Customer Relations\n",
      "1919         relias                Uncategorized\n",
      "5        rescuetime                      General\n",
      "194138   rescuetime           Customer Relations\n",
      "108818   rescuetime                Uncategorized\n",
      "49799      rippling                      General\n",
      "60202      rippling                Uncategorized\n",
      "468        settings                      General\n",
      "149718     settings                Uncategorized\n",
      "19             slab                      General\n",
      "8428           slab                Uncategorized\n",
      "2328    youtube.com                      General\n",
      "35648   youtube.com  Customer Relations Research\n",
      "121279         zoom                      General\n",
      "125681         zoom                Uncategorized\n",
      "325            zoom                     Meetings\n"
     ]
    }
   ],
   "source": [
    "result_type, result_subtype = find_apps_with_multiple_types_or_subtypes( filtered_csv )\n",
    "\n",
    "# Print the results ordered by 'activity_type' and 'activity_subtype'\n",
    "print( \"Applications with multiple activity_types:\" )\n",
    "print( result_type )\n",
    "print( \"\\nApplications with multiple activity_subtypes:\" )\n",
    "print( result_subtype )"
   ]
  },
  {
   "cell_type": "code",
   "execution_count": 155,
   "id": "08f76c6a-8556-47b7-a9db-72d565398e01",
   "metadata": {},
   "outputs": [],
   "source": [
    "assign_activity_subtype( filtered_csv, 'rippling', 'General' )"
   ]
  },
  {
   "cell_type": "code",
   "execution_count": 157,
   "id": "f0775937-3738-4882-9031-b7351d21165f",
   "metadata": {},
   "outputs": [],
   "source": [
    "assign_activity_subtype( filtered_csv, 'settings', 'General' )"
   ]
  },
  {
   "cell_type": "code",
   "execution_count": 159,
   "id": "3b346f93-ce10-44d3-a641-b21eba0887d5",
   "metadata": {},
   "outputs": [],
   "source": [
    "assign_activity_subtype( filtered_csv, 'slab', 'Operations' )"
   ]
  },
  {
   "cell_type": "code",
   "execution_count": 161,
   "id": "39c84cfe-aa22-4cb9-80e4-f8cc18d9bf24",
   "metadata": {},
   "outputs": [],
   "source": [
    "assign_activity_subtype( filtered_csv, 'zoom', 'Meetings' )"
   ]
  },
  {
   "cell_type": "code",
   "execution_count": 165,
   "id": "a5295752-95a6-43a2-9ab4-07676dd82873",
   "metadata": {},
   "outputs": [],
   "source": [
    "assign_activity_subtype( filtered_csv, 'relias', 'Operations' )"
   ]
  },
  {
   "cell_type": "code",
   "execution_count": 167,
   "id": "af626cb1-4417-46df-8e8e-3501e1677312",
   "metadata": {},
   "outputs": [],
   "source": [
    "assign_activity_subtype( filtered_csv, 'rescuetime', 'Internet Utilities' )"
   ]
  },
  {
   "cell_type": "code",
   "execution_count": 171,
   "id": "9703904c-561d-49f7-921e-6fc14aca0702",
   "metadata": {},
   "outputs": [
    {
     "name": "stdout",
     "output_type": "stream",
     "text": [
      "Applications with multiple activity_types:\n",
      "        application               activity_type\n",
      "2894        acrobat        Software Development\n",
      "145         acrobat  Communication & Scheduling\n",
      "96          acrobat        Design & Composition\n",
      "53207       acrobat                   Utilities\n",
      "226          amazon                    Shopping\n",
      "...             ...                         ...\n",
      "2328    youtube.com                  Other Work\n",
      "35648   youtube.com        Reference & Learning\n",
      "121279         zoom              News & Opinion\n",
      "325            zoom  Communication & Scheduling\n",
      "125681         zoom               Uncategorized\n",
      "\n",
      "[74 rows x 2 columns]\n"
     ]
    }
   ],
   "source": [
    "result_type, result_subtype = find_apps_with_multiple_types_or_subtypes( filtered_csv )\n",
    "\n",
    "# Print the results ordered by 'activity_type' and 'activity_subtype'\n",
    "print( \"Applications with multiple activity_types:\" )\n",
    "print( result_type )\n"
   ]
  },
  {
   "cell_type": "code",
   "execution_count": 179,
   "id": "4b3e3534-8d23-4680-ad52-9e5c2499df3f",
   "metadata": {},
   "outputs": [],
   "source": [
    "#had to create a csv to look at full list.  Cleaning up desired duplicates:\n",
    "assign_activity_type( filtered_csv, 'shed', 'Focus Work' )\n",
    "assign_activity_type( filtered_csv, 'slab', 'Reference & Learning' )\n",
    "assign_activity_type( filtered_csv, 'dialpad', 'Communication & Scheduling' )\n",
    "assign_activity_type( filtered_csv, 'email', 'Communication & Scheduling' )\n",
    "assign_activity_type( filtered_csv, 'excel', 'Business' )\n",
    "assign_activity_type( filtered_csv, 'finder', 'Utilities' )\n",
    "assign_activity_type( filtered_csv, 'lattice', 'Business' )\n",
    "assign_activity_type( filtered_csv, 'mode', 'Focus Work' )\n",
    "assign_activity_type( filtered_csv, 'preview', 'Focus Work' )\n",
    "assign_activity_type( filtered_csv, 'relias', 'Business' )\n",
    "assign_activity_type( filtered_csv, 'rescuetime', 'Utilities' )\n",
    "assign_activity_type( filtered_csv, 'settings', 'Utilities' )\n",
    "assign_activity_type( filtered_csv, 'users', 'Utilities' )\n",
    "assign_activity_type( filtered_csv, 'zoom', 'Communication & Scheduling' )\n",
    "assign_activity_type( filtered_csv, 'rippling', 'Utilities' )\n",
    "assign_activity_type( filtered_csv, 'acrobat', 'Focus Work' )\n"
   ]
  },
  {
   "cell_type": "code",
   "execution_count": 181,
   "id": "3b038112-95dd-4331-86be-bfc58b3c8fa7",
   "metadata": {},
   "outputs": [
    {
     "name": "stdout",
     "output_type": "stream",
     "text": [
      "Applications with multiple activity_types:\n",
      "        application               activity_type\n",
      "76944        amazon        Software Development\n",
      "226          amazon                    Shopping\n",
      "15           checkr                  Focus Work\n",
      "160          checkr                    Business\n",
      "42081        checkr  Communication & Scheduling\n",
      "...             ...                         ...\n",
      "151199   karmacheck                    Business\n",
      "162868   karmacheck  Communication & Scheduling\n",
      "195038   karmacheck              News & Opinion\n",
      "2328    youtube.com                  Other Work\n",
      "35648   youtube.com        Reference & Learning\n",
      "\n",
      "[26 rows x 2 columns]\n"
     ]
    }
   ],
   "source": [
    "result_type, result_subtype = find_apps_with_multiple_types_or_subtypes( filtered_csv )\n",
    "\n",
    "# Print the results ordered by 'activity_type' and 'activity_subtype'\n",
    "print( \"Applications with multiple activity_types:\" )\n",
    "print( result_type )"
   ]
  },
  {
   "cell_type": "code",
   "execution_count": null,
   "id": "8f843c7e-43a0-48f0-8379-1254f543c226",
   "metadata": {},
   "outputs": [],
   "source": []
  }
 ],
 "metadata": {
  "kernelspec": {
   "display_name": "Python 3 (ipykernel)",
   "language": "python",
   "name": "python3"
  },
  "language_info": {
   "codemirror_mode": {
    "name": "ipython",
    "version": 3
   },
   "file_extension": ".py",
   "mimetype": "text/x-python",
   "name": "python",
   "nbconvert_exporter": "python",
   "pygments_lexer": "ipython3",
   "version": "3.12.2"
  }
 },
 "nbformat": 4,
 "nbformat_minor": 5
}
